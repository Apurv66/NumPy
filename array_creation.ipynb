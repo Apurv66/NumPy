{
 "cells": [
  {
   "cell_type": "markdown",
   "id": "c1380e92",
   "metadata": {},
   "source": [
    "### one dimensional array"
   ]
  },
  {
   "cell_type": "code",
   "execution_count": 3,
   "id": "decfe4e8",
   "metadata": {},
   "outputs": [
    {
     "name": "stdout",
     "output_type": "stream",
     "text": [
      "[1 2 3 4 5]\n"
     ]
    }
   ],
   "source": [
    "import numpy as np\n",
    "\n",
    "arr = np.array([1,2,3,4,5])\n",
    "print(arr)"
   ]
  },
  {
   "cell_type": "markdown",
   "id": "ba5578d1",
   "metadata": {},
   "source": [
    "### Multi dimensional array"
   ]
  },
  {
   "cell_type": "code",
   "execution_count": 4,
   "id": "62b265a1",
   "metadata": {},
   "outputs": [
    {
     "name": "stdout",
     "output_type": "stream",
     "text": [
      "[[1 2 3]\n",
      " [4 5 6]]\n"
     ]
    }
   ],
   "source": [
    "m_arr = np.array([[1,2,3],[4,5,6]])\n",
    "print(m_arr)"
   ]
  },
  {
   "cell_type": "markdown",
   "id": "2306b0d8",
   "metadata": {},
   "source": [
    "### N dimensional array can create"
   ]
  },
  {
   "cell_type": "code",
   "execution_count": 5,
   "id": "758a7018",
   "metadata": {},
   "outputs": [
    {
     "name": "stdout",
     "output_type": "stream",
     "text": [
      "[[[1 2]\n",
      "  [3 4]]\n",
      "\n",
      " [[5 6]\n",
      "  [7 8]]]\n"
     ]
    }
   ],
   "source": [
    "m_arr2 = np.array([[[1,2],[3,4]],[[5,6],[7,8]]])\n",
    "print(m_arr2)"
   ]
  }
 ],
 "metadata": {
  "kernelspec": {
   "display_name": "venv",
   "language": "python",
   "name": "python3"
  },
  "language_info": {
   "codemirror_mode": {
    "name": "ipython",
    "version": 3
   },
   "file_extension": ".py",
   "mimetype": "text/x-python",
   "name": "python",
   "nbconvert_exporter": "python",
   "pygments_lexer": "ipython3",
   "version": "3.12.4"
  }
 },
 "nbformat": 4,
 "nbformat_minor": 5
}
